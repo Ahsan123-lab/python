{
 "cells": [
  {
   "cell_type": "code",
   "execution_count": 2,
   "metadata": {},
   "outputs": [
    {
     "name": "stdout",
     "output_type": "stream",
     "text": [
      "SUBJECT NUMBER 1\n",
      "Enter marks90\n",
      "SUBJECT NUMBER 2\n",
      "Enter marks90\n",
      "SUBJECT NUMBER 3\n",
      "Enter marks90\n",
      "SUBJECT NUMBER 4\n",
      "Enter marks90\n",
      "SUBJECT NUMBER 5\n",
      "Enter marks90\n",
      "PERCENTAGE: 90.0\n",
      "Grade: A\n"
     ]
    }
   ],
   "source": [
    "total=0\n",
    "arr = [ ]\n",
    "i=1\n",
    "def marks():\n",
    " mark=-1\n",
    " print(\"SUBJECT NUMBER\",i+1) \n",
    " while mark not in range(101):\n",
    " \n",
    "  mark=int(input(\"Enter marks\"))\n",
    "  if(mark>100):\n",
    "   print(\"MARKS CAN'T BE GREATER THAN 100!\")\n",
    " return mark\n",
    "for i in range(5):\n",
    " \n",
    " arr.append(marks())     \n",
    " \n",
    "    \n",
    "for i in range(5):\n",
    " total+=arr[i]\n",
    " per=(total/500)*100\n",
    "print(\"PERCENTAGE:\",avg)\n",
    "if(avg>=90):\n",
    "    print(\"Grade: A\")\n",
    "elif(avg>=80 and avg<90):\n",
    "    print(\"Grade: B\")\n",
    "elif(avg>=70 and avg<80):\n",
    "    print(\"Grade: C\")\n",
    "elif(avg>=60 and avg<70):\n",
    "    print(\"Grade: D\")\n",
    "else:\n",
    "    print(\"Grade: F\")"
   ]
  },
  {
   "cell_type": "code",
   "execution_count": null,
   "metadata": {},
   "outputs": [],
   "source": []
  }
 ],
 "metadata": {
  "kernelspec": {
   "display_name": "Python 3",
   "language": "python",
   "name": "python3"
  },
  "language_info": {
   "codemirror_mode": {
    "name": "ipython",
    "version": 3
   },
   "file_extension": ".py",
   "mimetype": "text/x-python",
   "name": "python",
   "nbconvert_exporter": "python",
   "pygments_lexer": "ipython3",
   "version": "3.7.4"
  }
 },
 "nbformat": 4,
 "nbformat_minor": 2
}
